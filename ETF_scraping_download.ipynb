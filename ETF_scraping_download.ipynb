{
 "cells": [
  {
   "cell_type": "code",
   "execution_count": 4,
   "metadata": {},
   "outputs": [],
   "source": [
    "from pandas_datareader import data\n",
    "import matplotlib.pyplot as plt\n",
    "import pandas as pd"
   ]
  },
  {
   "cell_type": "code",
   "execution_count": 15,
   "metadata": {},
   "outputs": [
    {
     "name": "stdout",
     "output_type": "stream",
     "text": [
      "             Open   High    Low  Close     Volume Currency\n",
      "Date                                                      \n",
      "2020-01-02  74.06  75.15  73.80  75.09  135647008      USD\n",
      "2020-01-03  74.29  75.14  74.13  74.36  146536000      USD\n",
      "2020-01-06  73.45  74.99  73.19  74.95  118579000      USD\n",
      "2020-01-07  74.96  75.22  74.37  74.60  111511000      USD\n",
      "2020-01-08  74.29  76.11  74.29  75.80  132364000      USD\n"
     ]
    }
   ],
   "source": [
    "import investpy\n",
    "\n",
    "df = investpy.get_stock_historical_data(stock='AAPL',\n",
    "                                        country='United States',\n",
    "                                        from_date='01/01/2020',\n",
    "                                        to_date='01/01/2021')\n",
    "print(df.head())"
   ]
  },
  {
   "cell_type": "code",
   "execution_count": 39,
   "metadata": {},
   "outputs": [],
   "source": [
    "search_results = investpy.search_quotes(text='ishares',\n",
    "                                        products=['etfs'],\n",
    "                                        countries = ['germany'],\n",
    "                                        n_results=100)"
   ]
  },
  {
   "cell_type": "code",
   "execution_count": 40,
   "metadata": {},
   "outputs": [
    {
     "data": {
      "text/plain": [
       "100"
      ]
     },
     "execution_count": 40,
     "metadata": {},
     "output_type": "execute_result"
    }
   ],
   "source": [
    "len(search_results)"
   ]
  },
  {
   "cell_type": "code",
   "execution_count": 41,
   "metadata": {},
   "outputs": [
    {
     "name": "stdout",
     "output_type": "stream",
     "text": [
      "{\"id_\": 37595, \"name\": \"iShares Core DAX\\u00ae UCITS ETF (DE)\", \"symbol\": \"GDAXIEX\", \"country\": \"germany\", \"tag\": \"/etfs/ishares-dax-de\", \"pair_type\": \"etfs\", \"exchange\": \"Xetra\"}\n",
      "{\"id_\": 37492, \"name\": \"iShares ATX UCITS ETF (DE)\", \"symbol\": \"ATXEX\", \"country\": \"germany\", \"tag\": \"/etfs/ishares-atx-(de)\", \"pair_type\": \"etfs\", \"exchange\": \"Xetra\"}\n",
      "{\"id_\": 37495, \"name\": \"iShares EURO STOXX UCITS\", \"symbol\": \"STOXXEEX\", \"country\": \"germany\", \"tag\": \"/etfs/ishares-euro-stoxx-(de)-de\", \"pair_type\": \"etfs\", \"exchange\": \"Xetra\"}\n",
      "{\"id_\": 37496, \"name\": \"iShares STOXX Europe 600 UCITS ETF (DE)\", \"symbol\": \"STOXXIEX\", \"country\": \"germany\", \"tag\": \"/etfs/ishares-stoxx-europe-600-de\", \"pair_type\": \"etfs\", \"exchange\": \"Xetra\"}\n",
      "{\"id_\": 37497, \"name\": \"iShares STOXX Europe Select Dividend 30 UCITS\", \"symbol\": \"SD3PEX\", \"country\": \"germany\", \"tag\": \"/etfs/ishares-stoxx-euro-select-div.-30\", \"pair_type\": \"etfs\", \"exchange\": \"Xetra\"}\n",
      "{\"id_\": 37513, \"name\": \"iShares STOXX Global Select Dividend 100 UCITS\", \"symbol\": \"SDGPEX\", \"country\": \"germany\", \"tag\": \"/etfs/ishares-stoxx-global-sel-div.-100\", \"pair_type\": \"etfs\", \"exchange\": \"Xetra\"}\n",
      "{\"id_\": 994141, \"name\": \"iShares S&P 500 USD Energy Sector UCITS\", \"symbol\": \"QDVF\", \"country\": \"germany\", \"tag\": \"/etfs/ishares-s-p-500-usd-energy\", \"pair_type\": \"etfs\", \"exchange\": \"Xetra\"}\n",
      "{\"id_\": 994142, \"name\": \"iShares S&P 500 USD Health Care Sector UCITS\", \"symbol\": \"QDVG\", \"country\": \"germany\", \"tag\": \"/etfs/ishares-s-p-500-usd-health-care\", \"pair_type\": \"etfs\", \"exchange\": \"Xetra\"}\n",
      "{\"id_\": 994143, \"name\": \"iShares S&P 500 USD Financials Sector UCITS\", \"symbol\": \"QDVH\", \"country\": \"germany\", \"tag\": \"/etfs/ishares-s-p-500-usd-financials\", \"pair_type\": \"etfs\", \"exchange\": \"Xetra\"}\n",
      "{\"id_\": 994144, \"name\": \"iShares S&P 500 USD Consumer Discretionary Sector UCITS\", \"symbol\": \"QDVK\", \"country\": \"germany\", \"tag\": \"/etfs/ishares-s-p-500-usd-cons-discr\", \"pair_type\": \"etfs\", \"exchange\": \"Xetra\"}\n",
      "{\"id_\": 994145, \"name\": \"iShares Euro Corporate Bond Sustainability Screened 0-3yr UCITS\", \"symbol\": \"QDVL\", \"country\": \"germany\", \"tag\": \"/etfs/ishares-euro-corp-bnd-sus-scrn-0-3y\", \"pair_type\": \"etfs\", \"exchange\": \"Xetra\"}\n",
      "{\"id_\": 994146, \"name\": \"iShares TA-25 Israel UCITS\", \"symbol\": \"QDVM\", \"country\": \"germany\", \"tag\": \"/etfs/ishares-ta25-israel-ucits\", \"pair_type\": \"etfs\", \"exchange\": \"Xetra\"}\n",
      "{\"id_\": 994147, \"name\": \"iShares Sustainable MSCI Japan SRI EUR Hedged UCITS\", \"symbol\": \"QDVN\", \"country\": \"germany\", \"tag\": \"/etfs/ishares-sustainable-msci-japan-sri\", \"pair_type\": \"etfs\", \"exchange\": \"Xetra\"}\n",
      "{\"id_\": 994148, \"name\": \"iShares US Mortgage Backed Securities UCITS\", \"symbol\": \"QDVP\", \"country\": \"germany\", \"tag\": \"/etfs/ishares-us-mortgage-backed-sec\", \"pair_type\": \"etfs\", \"exchange\": \"Xetra\"}\n",
      "{\"id_\": 994149, \"name\": \"iShares Fallen Angels High Yield Corporate Bond UCITS\", \"symbol\": \"QDVQ\", \"country\": \"germany\", \"tag\": \"/etfs/ishares-fallen-angels-hy-corp-bnd\", \"pair_type\": \"etfs\", \"exchange\": \"Xetra\"}\n",
      "{\"id_\": 994150, \"name\": \"iShares Sustainable MSCI USA SRI UCITS\", \"symbol\": \"QDVR\", \"country\": \"germany\", \"tag\": \"/etfs/ishares-sust-msci-usa-sri\", \"pair_type\": \"etfs\", \"exchange\": \"Xetra\"}\n",
      "{\"id_\": 994151, \"name\": \"iShares Sustainable MSCI Emerging Markets SRI UCITS\", \"symbol\": \"QDVS\", \"country\": \"germany\", \"tag\": \"/etfs/ishares-sust-msci-em-sri\", \"pair_type\": \"etfs\", \"exchange\": \"Xetra\"}\n",
      "{\"id_\": 994139, \"name\": \"iShares MSCI USA Dividend IQ UCITS\", \"symbol\": \"QDVD\", \"country\": \"germany\", \"tag\": \"/etfs/ishares-msci-usa-dividend-iq-ucits\", \"pair_type\": \"etfs\", \"exchange\": \"Xetra\"}\n",
      "{\"id_\": 994140, \"name\": \"iShares S&P 500 USD Information Technology Sector UCITS\", \"symbol\": \"QDVE\", \"country\": \"germany\", \"tag\": \"/etfs/ishares-s-p-500-usd-info-tech\", \"pair_type\": \"etfs\", \"exchange\": \"Xetra\"}\n",
      "{\"id_\": 994137, \"name\": \"iShares EURO STOXX 50 ex-Financials UCITS\", \"symbol\": \"IUSR\", \"country\": \"germany\", \"tag\": \"/etfs/ishares-euro-stoxx-50-x-financials\", \"pair_type\": \"etfs\", \"exchange\": \"Xetra\"}\n",
      "{\"id_\": 959556, \"name\": \"iShares MSCI France UCITS\", \"symbol\": \"IS3U\", \"country\": \"germany\", \"tag\": \"/etfs/ishares-msci-france-ucits\", \"pair_type\": \"etfs\", \"exchange\": \"Xetra\"}\n",
      "{\"id_\": 959557, \"name\": \"iShares MSCI World Momentum Factor UCITS\", \"symbol\": \"IS3R\", \"country\": \"germany\", \"tag\": \"/etfs/ishares-msci-world-momentum-factor\", \"pair_type\": \"etfs\", \"exchange\": \"Xetra\"}\n",
      "{\"id_\": 959558, \"name\": \"iShares MSCI World Quality Factor UCITS\", \"symbol\": \"IS3Q\", \"country\": \"germany\", \"tag\": \"/etfs/ishares-msci-wrld-quality-factor\", \"pair_type\": \"etfs\", \"exchange\": \"Xetra\"}\n",
      "{\"id_\": 959559, \"name\": \"iShares MSCI World Size Factor UCITS\", \"symbol\": \"IS3T\", \"country\": \"germany\", \"tag\": \"/etfs/ishares-msci-wrld-size-factor\", \"pair_type\": \"etfs\", \"exchange\": \"Xetra\"}\n",
      "{\"id_\": 959560, \"name\": \"iShares MSCI World Value Factor UCITS\", \"symbol\": \"IS3S\", \"country\": \"germany\", \"tag\": \"/etfs/ishares-msci-wrld-value-factor\", \"pair_type\": \"etfs\", \"exchange\": \"Xetra\"}\n",
      "{\"id_\": 959561, \"name\": \"iShares $ Short Duration Corp Bond UCITS ETF USD (Dist)\", \"symbol\": \"IS3J\", \"country\": \"germany\", \"tag\": \"/etfs/ishares-usd-short-duration-corp-bnd\", \"pair_type\": \"etfs\", \"exchange\": \"Xetra\"}\n",
      "{\"id_\": 959563, \"name\": \"iShares USD Ultrashort Bond UCITS\", \"symbol\": \"IS3L\", \"country\": \"germany\", \"tag\": \"/etfs/ishares-usd-ultrashort-bond-ucits\", \"pair_type\": \"etfs\", \"exchange\": \"Xetra\"}\n",
      "{\"id_\": 994136, \"name\": \"iShares Edge S&P 500 Minimum Volatility UCITS\", \"symbol\": \"ISIBCK\", \"country\": \"germany\", \"tag\": \"/etfs/ishares-edge-sp-500-min-vol\", \"pair_type\": \"etfs\", \"exchange\": \"Xetra\"}\n",
      "{\"id_\": 994115, \"name\": \"iShares JPX-Nikkei 400 EUR Hedged UCITS\", \"symbol\": \"36BY\", \"country\": \"germany\", \"tag\": \"/etfs/ishares-jpx-nikkei-400-eur-hdg\", \"pair_type\": \"etfs\", \"exchange\": \"Xetra\"}\n",
      "{\"id_\": 994117, \"name\": \"iShares Edge MSCI Europe Min Volatility UCITS\", \"symbol\": \"EUN0\", \"country\": \"germany\", \"tag\": \"/etfs/ishares-edge-msci-europe-min-vola\", \"pair_type\": \"etfs\", \"exchange\": \"Xetra\"}\n",
      "{\"id_\": 994121, \"name\": \"iShares Global Corporate Bond EUR Hedged UCITS\", \"symbol\": \"IBCQ\", \"country\": \"germany\", \"tag\": \"/etfs/ishares-global-corp-bnd-eur-hdg\", \"pair_type\": \"etfs\", \"exchange\": \"Xetra\"}\n",
      "{\"id_\": 994124, \"name\": \"iShares Edge MSCI World Minimum Volatility UCITS\", \"symbol\": \"IQQ0\", \"country\": \"germany\", \"tag\": \"/etfs/ishares-edge-msci-world-min-vol\", \"pair_type\": \"etfs\", \"exchange\": \"Xetra\"}\n",
      "{\"id_\": 994127, \"name\": \"iShares Global AAA-AA Government Bond UCITS\", \"symbol\": \"IS0Z\", \"country\": \"germany\", \"tag\": \"/etfs/ishares-global-aaa-aa-govt-bnd\", \"pair_type\": \"etfs\", \"exchange\": \"Xetra\"}\n",
      "{\"id_\": 994128, \"name\": \"iShares \\u20ac Corp Bond Financials UCITS ETF EUR (Dist)\", \"symbol\": \"IS3B\", \"country\": \"germany\", \"tag\": \"/etfs/ishares-euro-corp-bnd-financials\", \"pair_type\": \"etfs\", \"exchange\": \"Xetra\"}\n",
      "{\"id_\": 994130, \"name\": \"iShares $ Corp Bond Interest Rate Hedged UCITS ETF USD (Dist)\", \"symbol\": \"IS3F\", \"country\": \"germany\", \"tag\": \"/etfs/ishares-corp-bond-int-rate-hgd\", \"pair_type\": \"etfs\", \"exchange\": \"Xetra\"}\n",
      "{\"id_\": 994134, \"name\": \"iShares MSCI Emerging Markets Consumer Growth UCITS\", \"symbol\": \"ISCEMG\", \"country\": \"germany\", \"tag\": \"/etfs/ishares-msci-em-consumer-growth\", \"pair_type\": \"etfs\", \"exchange\": \"Xetra\"}\n",
      "{\"id_\": 1123006, \"name\": \"iShares MSCI World Small Cap UCITS ETF USD (Acc)\", \"symbol\": \"IUSN\", \"country\": \"germany\", \"tag\": \"/etfs/ishares-msci-world-small-cap-acc\", \"pair_type\": \"etfs\", \"exchange\": \"Xetra\"}\n",
      "{\"id_\": 1123323, \"name\": \"iShares MSCI USA ESG Screened UCITS ETF USD (Acc)\", \"symbol\": \"SGAG\", \"country\": \"germany\", \"tag\": \"/etfs/ishares-msci-usa-esg-screened-acc\", \"pair_type\": \"etfs\", \"exchange\": \"Xetra\"}\n",
      "{\"id_\": 1126159, \"name\": \"iShares Digital Security UCITS ETF USD Acc\", \"symbol\": \"L0CK\", \"country\": \"germany\", \"tag\": \"/etfs/ishares-digital-security-ucits-acc\", \"pair_type\": \"etfs\", \"exchange\": \"Xetra\"}\n",
      "{\"id_\": 1128870, \"name\": \"iShares MSCI World Quality Dividend UCITS ETF USD (Dist)\", \"symbol\": \"QDVW\", \"country\": \"germany\", \"tag\": \"/etfs/ishares-msciworldqualdiv-ucits-dist\", \"pair_type\": \"etfs\", \"exchange\": \"Xetra\"}\n",
      "{\"id_\": 1024544, \"name\": \"iShares Edge MSCI World Minimum Volatility UCITS Hedged Acc\", \"symbol\": \"SXR0\", \"country\": \"germany\", \"tag\": \"/etfs/ishrs-edge-msci-wrld-minvol-hdg-acc\", \"pair_type\": \"etfs\", \"exchange\": \"Xetra\"}\n",
      "{\"id_\": 1024546, \"name\": \"iShares Edge MSCI World Multifactor UCITS Hedged Acc\", \"symbol\": \"IS07\", \"country\": \"germany\", \"tag\": \"/etfs/ishares-edge-msci-wrld-multihdg-acc\", \"pair_type\": \"etfs\", \"exchange\": \"Xetra\"}\n",
      "{\"id_\": 38639, \"name\": \"iShares STOXX Europe Small 200 UCITS ETF (DE)\", \"symbol\": \"SCXPEX\", \"country\": \"germany\", \"tag\": \"/etfs/ishares-stoxx-europe-small-200\", \"pair_type\": \"etfs\", \"exchange\": \"Xetra\"}\n",
      "{\"id_\": 38592, \"name\": \"iShares DivDAX UCITS DE\", \"symbol\": \"GSUKEX\", \"country\": \"germany\", \"tag\": \"/etfs/ishares-divdax\", \"pair_type\": \"etfs\", \"exchange\": \"Xetra\"}\n",
      "{\"id_\": 38595, \"name\": \"iShares Euro Government Bond Capped 1.5-10.5yr UCITS ETF (DE)\", \"symbol\": \"IB83EX\", \"country\": \"germany\", \"tag\": \"/etfs/ishares-markit-\\u20ac-sov.-cap-1.5-10.5\", \"pair_type\": \"etfs\", \"exchange\": \"Xetra\"}\n",
      "{\"id_\": 38616, \"name\": \"iShares MSCI Japan Small Cap UCITS Dist\", \"symbol\": \"IUS4\", \"country\": \"germany\", \"tag\": \"/etfs/ishares-msci-japan-small-cap\", \"pair_type\": \"etfs\", \"exchange\": \"Xetra\"}\n",
      "{\"id_\": 38622, \"name\": \"iShares STOXX Europe Large 200 UCITS\", \"symbol\": \"LCXPEX\", \"country\": \"germany\", \"tag\": \"/etfs/ishares-stoxx-europe-large-200\", \"pair_type\": \"etfs\", \"exchange\": \"Xetra\"}\n",
      "{\"id_\": 38624, \"name\": \"iShares STOXX Europe Mid 200 UCITS\", \"symbol\": \"MCXPEX\", \"country\": \"germany\", \"tag\": \"/etfs/ishares-stoxx-europe-mid-200\", \"pair_type\": \"etfs\", \"exchange\": \"Xetra\"}\n",
      "{\"id_\": 38626, \"name\": \"iShares MDAX\\u00ae UCITS ETF (DE)\", \"symbol\": \"MDAXIEX\", \"country\": \"germany\", \"tag\": \"/etfs/ishares-mdax-(de)-de\", \"pair_type\": \"etfs\", \"exchange\": \"Xetra\"}\n",
      "{\"id_\": 38631, \"name\": \"iShares Nikkei 225 UCITS DE\", \"symbol\": \"N225EX\", \"country\": \"germany\", \"tag\": \"/etfs/ishares-nikkei-225\", \"pair_type\": \"etfs\", \"exchange\": \"Xetra\"}\n",
      "{\"id_\": 38632, \"name\": \"iShares NASDAQ-100 UCITS\", \"symbol\": \"NDXEX\", \"country\": \"germany\", \"tag\": \"/etfs/ishares-nasdaq-100\", \"pair_type\": \"etfs\", \"exchange\": \"Xetra\"}\n",
      "{\"id_\": 38633, \"name\": \"iShares eb.rexx Jumbo Pfandbriefe\", \"symbol\": \"R1JKEX\", \"country\": \"germany\", \"tag\": \"/etfs/ishares-eb.rexx-jumbo-pfanbdriefe\", \"pair_type\": \"etfs\", \"exchange\": \"Xetra\"}\n",
      "{\"id_\": 38634, \"name\": \"iShares eb.rexx Government Germany 1.5-2.5\", \"symbol\": \"RXP1EX\", \"country\": \"germany\", \"tag\": \"/etfs/ishares-eb.rexx-gov-ger.-1.5-2.5\", \"pair_type\": \"etfs\", \"exchange\": \"Xetra\"}\n",
      "{\"id_\": 38635, \"name\": \"iShares eb.rexx Government Germany 2.5-5.5\", \"symbol\": \"RXP2EX\", \"country\": \"germany\", \"tag\": \"/etfs/ishares-eb.rexx-gov-ger.-2.5-5.5\", \"pair_type\": \"etfs\", \"exchange\": \"Xetra\"}\n",
      "{\"id_\": 38636, \"name\": \"iShares eb.rexx Government Germany 5.5-10.5Yr UCITS\", \"symbol\": \"RXP5EX\", \"country\": \"germany\", \"tag\": \"/etfs/ishares-eb.rexx-gov-ger.-5.5-10.5\", \"pair_type\": \"etfs\", \"exchange\": \"Xetra\"}\n",
      "{\"id_\": 38637, \"name\": \"iShares eb.rexx Government Germany 10.5+\", \"symbol\": \"RXPXEX\", \"country\": \"germany\", \"tag\": \"/etfs/ishares-eb.rexx-gov-germany-10,5\", \"pair_type\": \"etfs\", \"exchange\": \"Xetra\"}\n",
      "{\"id_\": 38638, \"name\": \"iShares eb.rexx Government Germany UCITS\", \"symbol\": \"RXRGEX\", \"country\": \"germany\", \"tag\": \"/etfs/ishares-eb.rexx-gov-germany\", \"pair_type\": \"etfs\", \"exchange\": \"Xetra\"}\n",
      "{\"id_\": 38645, \"name\": \"iShares SLI UCITS DE\", \"symbol\": \"SSMIEX\", \"country\": \"germany\", \"tag\": \"/etfs/ishares-smi\", \"pair_type\": \"etfs\", \"exchange\": \"Xetra\"}\n",
      "{\"id_\": 38582, \"name\": \"iShares Dow Jones Industrial Average UCITS ETF (DE)\", \"symbol\": \"DJIEX\", \"country\": \"germany\", \"tag\": \"/etfs/ishares-dj-industrial-average\", \"pair_type\": \"etfs\", \"exchange\": \"Xetra\"}\n",
      "{\"id_\": 38647, \"name\": \"iShares STOXX Europe 50 UCITS\", \"symbol\": \"STX50EX\", \"country\": \"germany\", \"tag\": \"/etfs/ishares-stoxx-europe-50\", \"pair_type\": \"etfs\", \"exchange\": \"Xetra\"}\n",
      "{\"id_\": 38648, \"name\": \"iShares VII PLC - iShares MSCI UK Small Cap ETF GBP Acc\", \"symbol\": \"SXRD\", \"country\": \"germany\", \"tag\": \"/etfs/cs-etf-(ie)-on-msci-uk-small-cap\", \"pair_type\": \"etfs\", \"exchange\": \"Xetra\"}\n",
      "{\"id_\": 38653, \"name\": \"iShares $ Treasury Bond 3-7yr UCITS ETF USD (Acc)\", \"symbol\": \"SXRL\", \"country\": \"germany\", \"tag\": \"/etfs/cs-etf-(ie)-on-iboxx-usd-govt-3-7\", \"pair_type\": \"etfs\", \"exchange\": \"Xetra\"}\n",
      "{\"id_\": 38654, \"name\": \"iShares VII PLC - iShares $ Treasury Bd 7-10y ETF USD Acc\", \"symbol\": \"SXRM\", \"country\": \"germany\", \"tag\": \"/etfs/cs-etf-(ie)-on-iboxx-usd-govt-7-10\", \"pair_type\": \"etfs\", \"exchange\": \"Xetra\"}\n",
      "{\"id_\": 38655, \"name\": \"iShares VII PLC - iShares \\u20ac Govt Bond 3-7yr ETF EUR Acc\", \"symbol\": \"SXRP\", \"country\": \"germany\", \"tag\": \"/etfs/cs-etf-(ie)-on-iboxx-eur-govt-3-7\", \"pair_type\": \"etfs\", \"exchange\": \"Xetra\"}\n",
      "{\"id_\": 38656, \"name\": \"iShares VII PLC - iShares \\u20ac Govt Bond 7-10yr ETF EUR Acc\", \"symbol\": \"SXRQ\", \"country\": \"germany\", \"tag\": \"/etfs/cs-etf-(ie)-on-iboxx-eur-govt-7-10\", \"pair_type\": \"etfs\", \"exchange\": \"Xetra\"}\n",
      "{\"id_\": 38663, \"name\": \"iShares TecDAX UCITS\", \"symbol\": \"TECDAXEX\", \"country\": \"germany\", \"tag\": \"/etfs/ishares-tecdax-(de)-de\", \"pair_type\": \"etfs\", \"exchange\": \"Xetra\"}\n",
      "{\"id_\": 38586, \"name\": \"iShares eb.rexx Money Market\", \"symbol\": \"EBMMEX\", \"country\": \"germany\", \"tag\": \"/etfs/ishares-eb.rexx-money-market\", \"pair_type\": \"etfs\", \"exchange\": \"Xetra\"}\n",
      "{\"id_\": 38581, \"name\": \"iShares Dow Jones Global Titans 50 UCITS\", \"symbol\": \"DJGTEEX\", \"country\": \"germany\", \"tag\": \"/etfs/ishares-dj-global-titans-50\", \"pair_type\": \"etfs\", \"exchange\": \"Xetra\"}\n",
      "{\"id_\": 38541, \"name\": \"iShares STOXX Europe 600 Insurance UCITS\", \"symbol\": \"SXIPEX\", \"country\": \"germany\", \"tag\": \"/etfs/ishares-dj-stoxx600-insurance\", \"pair_type\": \"etfs\", \"exchange\": \"Xetra\"}\n",
      "{\"id_\": 38536, \"name\": \"iShares STOXX Europe 600 Utilities UCITS\", \"symbol\": \"SX6PEX\", \"country\": \"germany\", \"tag\": \"/etfs/ishares-eurostoxx-600-utilities\", \"pair_type\": \"etfs\", \"exchange\": \"Xetra\"}\n",
      "{\"id_\": 38537, \"name\": \"iShares STOXX Europe 600 Financial Services UCITS\", \"symbol\": \"SXFPEX\", \"country\": \"germany\", \"tag\": \"/etfs/ishares-dj-stoxx600-financial-svs\", \"pair_type\": \"etfs\", \"exchange\": \"Xetra\"}\n",
      "{\"id_\": 38538, \"name\": \"iShares STOXX Europe 600 Industrial Goods & Services UCITS\", \"symbol\": \"SXNPEX\", \"country\": \"germany\", \"tag\": \"/etfs/ishares-stoxx600-ind.-goods--ser.\", \"pair_type\": \"etfs\", \"exchange\": \"Xetra\"}\n",
      "{\"id_\": 38539, \"name\": \"iShares STOXX Europe 600 Chemicals UCITS\", \"symbol\": \"SX4PEX\", \"country\": \"germany\", \"tag\": \"/etfs/ishares-stoxx-europe-600-chemicals\", \"pair_type\": \"etfs\", \"exchange\": \"Xetra\"}\n",
      "{\"id_\": 38540, \"name\": \"iShares STOXX Europe 600 Automobiles & Parts UCITS\", \"symbol\": \"SXAPEX\", \"country\": \"germany\", \"tag\": \"/etfs/ishares-dj-stoxx600-auto-parts\", \"pair_type\": \"etfs\", \"exchange\": \"Xetra\"}\n",
      "{\"id_\": 38542, \"name\": \"iShares STOXX Europe 600 Travel & Leisure UCITS\", \"symbol\": \"SXTPEX\", \"country\": \"germany\", \"tag\": \"/etfs/ishares-eurostoxx600-trvl---leis.\", \"pair_type\": \"etfs\", \"exchange\": \"Xetra\"}\n",
      "{\"id_\": 38580, \"name\": \"Ishares Dow Jones U.S. Select Dividend UCITS\", \"symbol\": \"DJDVPEX\", \"country\": \"germany\", \"tag\": \"/etfs/ishares-dj-us-select-dividend\", \"pair_type\": \"etfs\", \"exchange\": \"Xetra\"}\n",
      "{\"id_\": 38543, \"name\": \"iShares STOXX Europe 600 Banks UCITS ETF (DE)\", \"symbol\": \"SX7PEX\", \"country\": \"germany\", \"tag\": \"/etfs/ishares-dj-stoxx600-banks\", \"pair_type\": \"etfs\", \"exchange\": \"Xetra\"}\n",
      "{\"id_\": 38544, \"name\": \"iShares STOXX Europe 600 Basic Resources UCITS\", \"symbol\": \"SXPPEX\", \"country\": \"germany\", \"tag\": \"/etfs/ishares-dj-stoxx600-basicresources\", \"pair_type\": \"etfs\", \"exchange\": \"Xetra\"}\n",
      "{\"id_\": 38545, \"name\": \"iShares STOXX Europe 600 Food & Beverage UCITS\", \"symbol\": \"SX3PEX\", \"country\": \"germany\", \"tag\": \"/etfs/ishares-dj-stoxx600-food-beverage\", \"pair_type\": \"etfs\", \"exchange\": \"Xetra\"}\n",
      "{\"id_\": 38546, \"name\": \"iShares STOXX Europe 600 Oil & Gas UCITS ETF (DE)\", \"symbol\": \"SXEPEX\", \"country\": \"germany\", \"tag\": \"/etfs/ishares-dj-stoxx600-oil-gas\", \"pair_type\": \"etfs\", \"exchange\": \"Xetra\"}\n",
      "{\"id_\": 38547, \"name\": \"iShares STOXX Europe 600 Media UCITS\", \"symbol\": \"SXMPEX\", \"country\": \"germany\", \"tag\": \"/etfs/ishares-dj-stoxx600-media\", \"pair_type\": \"etfs\", \"exchange\": \"Xetra\"}\n",
      "{\"id_\": 38548, \"name\": \"iShares STOXX Europe 600 Personal & Household Goods UCITS\", \"symbol\": \"SXQPEX\", \"country\": \"germany\", \"tag\": \"/etfs/ishares-stoxx-600-pers-housld-gds\", \"pair_type\": \"etfs\", \"exchange\": \"Xetra\"}\n",
      "{\"id_\": 38549, \"name\": \"iShares STOXX Europe 600 Technology UCITS\", \"symbol\": \"SX8PEX\", \"country\": \"germany\", \"tag\": \"/etfs/ishares-eurostoxx-600-technology\", \"pair_type\": \"etfs\", \"exchange\": \"Xetra\"}\n",
      "{\"id_\": 38550, \"name\": \"iShares STOXX Europe 600 Construction & Materials UCITS ETF (DE)\", \"symbol\": \"SXOPEX\", \"country\": \"germany\", \"tag\": \"/etfs/ishares-stoxxeuro-600-cons.---mat.\", \"pair_type\": \"etfs\", \"exchange\": \"Xetra\"}\n",
      "{\"id_\": 38551, \"name\": \"iShares STOXX Europe 600 Real Estate UCITS\", \"symbol\": \"SREEEX\", \"country\": \"germany\", \"tag\": \"/etfs/ishares-eurostoxx-600-real-estate\", \"pair_type\": \"etfs\", \"exchange\": \"Xetra\"}\n",
      "{\"id_\": 38552, \"name\": \"iShares STOXX Europe 600 Retail UCITS\", \"symbol\": \"SXRPEX\", \"country\": \"germany\", \"tag\": \"/etfs/ishares-stoxx-euro-600-retail\", \"pair_type\": \"etfs\", \"exchange\": \"Xetra\"}\n",
      "{\"id_\": 38553, \"name\": \"iShares STOXX Europe 600 Health Care UCITS\", \"symbol\": \"SXDPEX\", \"country\": \"germany\", \"tag\": \"/etfs/ishares-dj-stoxx600-health-care\", \"pair_type\": \"etfs\", \"exchange\": \"Xetra\"}\n",
      "{\"id_\": 38554, \"name\": \"iShares STOXX Europe 600 Telecommunications UCITS\", \"symbol\": \"SXKPEX\", \"country\": \"germany\", \"tag\": \"/etfs/ishares-eurostoxx-600-telecom--de\", \"pair_type\": \"etfs\", \"exchange\": \"Xetra\"}\n",
      "{\"id_\": 38567, \"name\": \"iShares VII PLC - iShares MSCI EMU USD Hedged ETF Acc\", \"symbol\": \"CEBP\", \"country\": \"germany\", \"tag\": \"/etfs/cs-etf(ie)on-cs-gbl-altrn.engy\", \"pair_type\": \"etfs\", \"exchange\": \"Xetra\"}\n",
      "{\"id_\": 38579, \"name\": \"iShares Diversified Commodity Swap UCITS ETF (DE)\", \"symbol\": \"DJCOMEX\", \"country\": \"germany\", \"tag\": \"/etfs/ishares-dj-ubs-commodity-swap\", \"pair_type\": \"etfs\", \"exchange\": \"Xetra\"}\n",
      "{\"id_\": 46081, \"name\": \"iShares EURO STOXX Select Dividend 30 UCITS\", \"symbol\": \"SD3EEX\", \"country\": \"germany\", \"tag\": \"/etfs/ishares-euro-stoxx-div.-30-de\", \"pair_type\": \"etfs\", \"exchange\": \"Xetra\"}\n",
      "{\"id_\": 45776, \"name\": \"iShares MSCI South Africa UCITS\", \"symbol\": \"IBC4\", \"country\": \"germany\", \"tag\": \"/etfs/ishares-msci-south-africa-de\", \"pair_type\": \"etfs\", \"exchange\": \"Xetra\"}\n",
      "{\"id_\": 45787, \"name\": \"iShares MSCI Australia UCITS\", \"symbol\": \"IBC6\", \"country\": \"germany\", \"tag\": \"/etfs/ishares-msci-australia-de\", \"pair_type\": \"etfs\", \"exchange\": \"Xetra\"}\n",
      "{\"id_\": 45817, \"name\": \"iNAV iShares MSCI UK UCITS in GBP iNAV\", \"symbol\": \"IXM041\", \"country\": \"germany\", \"tag\": \"/etfs/cs-(ie)-on-msci-uk-gbp-de\", \"pair_type\": \"etfs\", \"exchange\": \"Xetra\"}\n",
      "{\"id_\": 45818, \"name\": \"iNAV iShares FTSE 100 UCITS Acc in GBP iNAV\", \"symbol\": \"IXM035\", \"country\": \"germany\", \"tag\": \"/etfs/cs-(ie)-on-ftse-100-de\", \"pair_type\": \"etfs\", \"exchange\": \"Xetra\"}\n",
      "{\"id_\": 46087, \"name\": \"iShares EURO STOXX 50 UCITS ETF (DE)\", \"symbol\": \"STX50EEX\", \"country\": \"germany\", \"tag\": \"/etfs/ishares-euro-stoxx-50-(de)-de\", \"pair_type\": \"etfs\", \"exchange\": \"Xetra\"}\n",
      "{\"id_\": 46126, \"name\": \"iShares VII PLC - iShares Core MSCI Pac ex-Jpn ETF USD Acc\", \"symbol\": \"SXR1\", \"country\": \"germany\", \"tag\": \"/etfs/cs-(ie)-on-msci-pacific-x-japan-de\", \"pair_type\": \"etfs\", \"exchange\": \"Xetra\"}\n",
      "{\"id_\": 46129, \"name\": \"iShares VII PLC - iShares MSCI Canada ETF USD Acc\", \"symbol\": \"SXR2\", \"country\": \"germany\", \"tag\": \"/etfs/cs-(ie)-on-msci-canada-de\", \"pair_type\": \"etfs\", \"exchange\": \"Xetra\"}\n",
      "{\"id_\": 46460, \"name\": \"iShares Dow Jones Asia Pacific Select Dividend 30 UCITS\", \"symbol\": \"DJAPSDEEX\", \"country\": \"germany\", \"tag\": \"/etfs/ishares-dj-asia-pac.-div.-30\", \"pair_type\": \"etfs\", \"exchange\": \"Xetra\"}\n",
      "{\"id_\": 46462, \"name\": \"iShares Dow Jones Eurozone Sustainability Screened UCITS\", \"symbol\": \"SUBEEX\", \"country\": \"germany\", \"tag\": \"/etfs/ishares-dj-eurozone-sust.-screened\", \"pair_type\": \"etfs\", \"exchange\": \"Xetra\"}\n"
     ]
    }
   ],
   "source": [
    "for etf in (search_results):\n",
    "    print(etf)"
   ]
  },
  {
   "cell_type": "code",
   "execution_count": null,
   "metadata": {},
   "outputs": [],
   "source": []
  }
 ],
 "metadata": {
  "kernelspec": {
   "display_name": "Python 3",
   "language": "python",
   "name": "python3"
  },
  "language_info": {
   "codemirror_mode": {
    "name": "ipython",
    "version": 3
   },
   "file_extension": ".py",
   "mimetype": "text/x-python",
   "name": "python",
   "nbconvert_exporter": "python",
   "pygments_lexer": "ipython3",
   "version": "3.8.5"
  }
 },
 "nbformat": 4,
 "nbformat_minor": 4
}
